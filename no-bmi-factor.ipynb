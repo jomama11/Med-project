{
 "cells": [
  {
   "cell_type": "markdown",
   "metadata": {},
   "source": [
    "# U.S. Medical Insurance Costs"
   ]
  },
  {
   "cell_type": "code",
   "execution_count": 437,
   "metadata": {
    "scrolled": true
   },
   "outputs": [],
   "source": [
    "# Note that I did not use the BMI factor,\n",
    "#because of how inaccurate it can be to determine a person's insurance cost \n",
    "#based on that unreliable factor!\n",
    "\n",
    "\n",
    "# 1-Variables\n",
    "import csv\n",
    "\n",
    "with open(\"insurance.csv\", \"r\") as insurance_file:\n",
    "    csv_reader = csv.reader(insurance_file)\n",
    "    \n",
    "    headers = next(csv_reader)\n",
    "    \n",
    "    age_column_index = headers.index(\"age\")\n",
    "    \n",
    "    ages = []\n",
    "\n",
    "    for row in csv_reader:\n",
    "        age = row[age_column_index]\n",
    "        ages.append(age)"
   ]
  },
  {
   "cell_type": "code",
   "execution_count": 426,
   "metadata": {
    "scrolled": true
   },
   "outputs": [],
   "source": [
    "with open(\"insurance.csv\", \"r\") as insurance_file:\n",
    "    csv_reader = csv.reader(insurance_file)\n",
    "    \n",
    "    headers = next(csv_reader)\n",
    "    \n",
    "    location_column_index = headers.index(\"region\")\n",
    "    \n",
    "    locations = []\n",
    "\n",
    "    for row in csv_reader:\n",
    "        location = row[location_column_index]\n",
    "        locations.append(location)"
   ]
  },
  {
   "cell_type": "code",
   "execution_count": 427,
   "metadata": {
    "scrolled": true
   },
   "outputs": [],
   "source": [
    "with open(\"insurance.csv\", \"r\") as insurance_file:\n",
    "    csv_reader = csv.reader(insurance_file)\n",
    "    \n",
    "    headers = next(csv_reader)\n",
    "    \n",
    "    smokers_and_non_smokers_column_index = headers.index(\"smoker\")\n",
    "    \n",
    "    smokers_non_smokers = []\n",
    "\n",
    "    for row in csv_reader:\n",
    "        smoker = row[smokers_and_non_smokers_column_index]\n",
    "        smokers_non_smokers.append(smoker)"
   ]
  },
  {
   "cell_type": "code",
   "execution_count": 428,
   "metadata": {},
   "outputs": [],
   "source": [
    "total_ages = 0\n",
    "\n",
    "for age in ages:\n",
    "    total_ages += int(age)"
   ]
  },
  {
   "cell_type": "code",
   "execution_count": 429,
   "metadata": {},
   "outputs": [
    {
     "name": "stdout",
     "output_type": "stream",
     "text": [
      "The average age of the patients: 39 years old\n"
     ]
    }
   ],
   "source": [
    "average_age_patients = total_ages / len(ages)\n",
    "print(\"The average age of the patients: \" + str(int(average_age_patients)) + \" years old\")"
   ]
  },
  {
   "cell_type": "code",
   "execution_count": 430,
   "metadata": {
    "scrolled": false
   },
   "outputs": [
    {
     "name": "stdout",
     "output_type": "stream",
     "text": [
      "The average cost for patients who lives in the north is: \n",
      "13507$USD for a total of: 2701433$USD.\n",
      "The average cost for patients who lives in the south is: \n",
      "13981$USD for a total of: 2796237$USD.\n",
      "Patients who lives in the south pay an average of: \n",
      "474$USD more for a total of: 13981$USD,\n",
      "wich represents an increase of 1% \n",
      "compared to the patients who lives in the north\n"
     ]
    }
   ],
   "source": [
    "# 2- Costs per region:\n",
    "\n",
    "with open(\"insurance.csv\", \"r\") as insurance_file:\n",
    "    csv_reader = csv.reader(insurance_file)\n",
    "    \n",
    "    headers = next(csv_reader)\n",
    "    \n",
    "    \n",
    "    locations_column = headers.index(\"region\")\n",
    "    cost_column = headers.index(\"charges\")  \n",
    "    \n",
    "    north_region = []\n",
    "    south_region = []\n",
    "    cost = []\n",
    "            \n",
    "    for row in csv_reader:\n",
    "        region = row[locations_column]\n",
    "        cost = float(row[cost_column])\n",
    "        \n",
    "        if region == \"northeast\" or region == \"northwest\":\n",
    "            north_region.append(cost)\n",
    "        else:\n",
    "            south_region.append(cost)\n",
    "\n",
    "total_cost_north_200 = sum(north_region[:200])\n",
    "avg_cost_north = total_cost_north_200 / len(north_region[:200])\n",
    "print(f\"\"\"The average cost for patients who lives in the north is: \n",
    "{int(avg_cost_north)}$USD for a total of: {int(total_cost_north_200)}$USD.\"\"\")\n",
    "total_cost_south_200 = sum(south_region[:200])\n",
    "avg_cost_south = total_cost_south_200 / len(south_region[:200])\n",
    "print(f\"\"\"The average cost for patients who lives in the south is: \n",
    "{int(avg_cost_south)}$USD for a total of: {int(total_cost_south_200)}$USD.\"\"\")\n",
    "total_average = avg_cost_north + avg_cost_south\n",
    "difff_s_n =  avg_cost_south - avg_cost_north \n",
    "increase_perc = 100 * difff_s_n / total_average\n",
    "print(f\"\"\"Patients who lives in the south pay an average of: \n",
    "{int(difff_s_n)}$USD more for a total of: {int(avg_cost_south)}$USD,\n",
    "wich represents an increase of {int(increase_perc)}% \n",
    "compared to the patients who lives in the north\"\"\")"
   ]
  },
  {
   "cell_type": "code",
   "execution_count": 431,
   "metadata": {
    "scrolled": false
   },
   "outputs": [
    {
     "name": "stdout",
     "output_type": "stream",
     "text": [
      "Number of non-smokers: 1064\n",
      "Number of smokers: 274\n"
     ]
    }
   ],
   "source": [
    "# 3- difference of costs between smokers and non smokers:\n",
    "non_smokers = []\n",
    "smokers = []\n",
    "\n",
    "for not_smoking in smokers_non_smokers:\n",
    "    if not_smoking == \"no\":\n",
    "        non_smokers.append(not_smoking)\n",
    "    else:\n",
    "        smokers.append(not_smoking)\n",
    "        \n",
    "print(\"Number of non-smokers:\", len(non_smokers))\n",
    "print(\"Number of smokers:\", len(smokers))"
   ]
  },
  {
   "cell_type": "code",
   "execution_count": 432,
   "metadata": {},
   "outputs": [
    {
     "name": "stdout",
     "output_type": "stream",
     "text": [
      "Total insurance charge for the first 200 patients who smokes: 6389066$USD.\n",
      "Total insurance charge for the first 200 patients who doesn't smoke: 1598513$USD.\n",
      "Total cost for both smokers and non-smokers: 7987579$USD.\n",
      "__________________________________________________________________\n",
      "There is an increase of 59% in insurance cost\n",
      "for smokers compared to non-smoking patients. \n",
      "Wich means that smoking isn't just bad \n",
      "for your health, but can also hurt your wallet!\n"
     ]
    }
   ],
   "source": [
    "total_cost_smokers = []\n",
    "total_cost_non_smokers = []\n",
    "\n",
    "with open(\"insurance.csv\", \"r\") as csv_file:\n",
    "    csv_reader = csv.DictReader(csv_file)\n",
    "    \n",
    "    for row in csv_reader:\n",
    "        smoker = row[\"smoker\"]\n",
    "        cost = float(row[\"charges\"])\n",
    "        if smoker == \"yes\":\n",
    "            total_cost_smokers.append(cost)\n",
    "        else:\n",
    "            total_cost_non_smokers.append(cost)\n",
    "\n",
    "sum_total_smokers = sum(total_cost_smokers[:200])\n",
    "print(f\"Total insurance charge for the first 200 patients who smokes: {int(sum_total_smokers)}$USD.\")\n",
    "sum_total_non_smokers = sum(total_cost_non_smokers[:200])\n",
    "print(f\"Total insurance charge for the first 200 patients who doesn't smoke: {int(sum_total_non_smokers)}$USD.\")\n",
    "total_cost_both =  sum_total_smokers + sum_total_non_smokers\n",
    "print(f\"Total cost for both smokers and non-smokers: {int(total_cost_both)}$USD.\")\n",
    "print(\"__________________________________________________________________\")\n",
    "\n",
    "diff_btween_both = sum_total_smokers - sum_total_non_smokers\n",
    "in_percentage = 100 * diff_btween_both / total_cost_both\n",
    "print(f'''There is an increase of {int(in_percentage)}% in insurance cost\n",
    "for smokers compared to non-smoking patients. \n",
    "Wich means that smoking isn't just bad \n",
    "for your health, but can also hurt your wallet!''')"
   ]
  },
  {
   "cell_type": "code",
   "execution_count": 433,
   "metadata": {
    "scrolled": false
   },
   "outputs": [
    {
     "name": "stdout",
     "output_type": "stream",
     "text": [
      "Total insurance cost for patients who have kids: 2924706$USD.\n",
      "Total insurance cost for patients who don't have kids: 2576913$USD.\n",
      "Difference in cost for patients with children and patients without children: 347792$USD\n",
      "This represents an increase of 6% \n",
      "in insurance cost for patients who have childrens. \n",
      "Having children doesn't affect insurance cost as much as smoking.\n",
      "***Remember that these calculation only represents the first 200 rows/patients from the csv file!\n"
     ]
    }
   ],
   "source": [
    "# Difference of cost for patients who have/doesn't have children:\n",
    "with open(\"insurance.csv\", \"r\") as insurance_file:\n",
    "    csv_reader = csv.DictReader(insurance_file)\n",
    "\n",
    "    parents_with_children = []\n",
    "    without_children = []\n",
    "\n",
    "    for row in csv_reader:\n",
    "        children = int(row[\"children\"]) \n",
    "        cost = float(row[\"charges\"]) \n",
    "\n",
    "        if children > 0:\n",
    "            parents_with_children.append(cost)\n",
    "        else:\n",
    "            without_children.append(cost)\n",
    "\n",
    "total_cost_parents = sum(parents_with_children[:200])\n",
    "print(f\"Total insurance cost for patients who have kids: {int(total_cost_parents)}$USD.\")\n",
    "total_cost__without_children = sum(without_children[:200])\n",
    "print(f\"Total insurance cost for patients who don't have kids: {int(total_cost__without_children)}$USD.\")\n",
    "difference_in_cost = total_cost_parents - total_cost__without_children\n",
    "\n",
    "print(f\"Difference in cost for patients with children and patients without children: {int(difference_in_cost)}$USD\")\n",
    "total_parents_n_non_parents = total_cost_parents + total_cost__without_children\n",
    "perc_increase = 100 * difference_in_cost / total_parents_n_non_parents\n",
    "print(f\"\"\"This represents an increase of {int(perc_increase)}% \n",
    "in insurance cost for patients who have childrens. \n",
    "Having children doesn't affect insurance cost as much as smoking.\"\"\")\n",
    "print(\"***Remember that these calculation only represents the first 200 rows/patients from the csv file!\")"
   ]
  },
  {
   "cell_type": "code",
   "execution_count": 434,
   "metadata": {
    "scrolled": true
   },
   "outputs": [
    {
     "name": "stdout",
     "output_type": "stream",
     "text": [
      "Total cost for female patients: 2448470$USD\n",
      "Total cost for male patients: 3030415$USD\n",
      "There is a 581945$USD difference in insurance cost between both genders for the first 200 patients.\n"
     ]
    }
   ],
   "source": [
    "#4 difference of cost per gender:\n",
    "with open(\"insurance.csv\", \"r\") as insurance_file:\n",
    "    csv_reader = csv.reader(insurance_file)\n",
    "    \n",
    "    headers = next(csv_reader)\n",
    "    \n",
    "    gender = headers.index(\"sex\")\n",
    "    cost_column = headers.index(\"charges\")  \n",
    "\n",
    "    female_cost = []\n",
    "    male_cost = []\n",
    "\n",
    "    for row in csv_reader:\n",
    "        if row[gender] == \"female\":\n",
    "            female_cost.append(float(row[cost_column])) \n",
    "        else:\n",
    "            male_cost.append(float(row[cost_column]))\n",
    "total_female_cost = sum(female_cost[:200])\n",
    "print(f\"Total cost for female patients: {int(total_female_cost)}$USD\")\n",
    "total_male_cost = sum(male_cost[:200])\n",
    "print(f\"Total cost for male patients: {int(total_male_cost)}$USD\")\n",
    "differ_both = total_male_cost - total_female_cost\n",
    "print(f\"There is a {int(differ_both)}$USD difference in insurance cost between both genders for the first 200 patients.\")"
   ]
  },
  {
   "cell_type": "code",
   "execution_count": 438,
   "metadata": {},
   "outputs": [],
   "source": [
    "#5 difference of cost per gender who happens to be a smoker/non-smoker:\n",
    "with open(\"insurance.csv\", \"r\") as insurance_file:\n",
    "    csv_reader = csv.reader(insurance_file)\n",
    "    \n",
    "    headers = next(csv_reader)\n",
    "    \n",
    "    gender_column = headers.index(\"sex\")\n",
    "    smoking_column = headers.index(\"smoker\")\n",
    "    cost_column = headers.index(\"charges\")\n",
    "\n",
    "    smoking_male = []\n",
    "    non_smoking_male = []\n",
    "\n",
    "    for row in csv_reader:\n",
    "        gender = row[gender_column]\n",
    "        smoking_status = row[smoking_column]\n",
    "        cost = float(row[cost_column])\n",
    "\n",
    "        if gender == \"male\" and smoking_status == \"yes\":\n",
    "            smoking_male.append(cost)\n",
    "        else:\n",
    "            non_smoking_male.append(cost)"
   ]
  },
  {
   "cell_type": "code",
   "execution_count": 436,
   "metadata": {},
   "outputs": [],
   "source": [
    "with open(\"insurance.csv\", \"r\") as insurance_file:\n",
    "    csv_reader = csv.reader(insurance_file)\n",
    "    \n",
    "    headers = next(csv_reader)\n",
    "    \n",
    "    gender_column = headers.index(\"sex\")\n",
    "    smoking_column = headers.index(\"smoker\")\n",
    "    cost_column = headers.index(\"charges\")  \n",
    "    \n",
    "    smoking_female = []\n",
    "    non_smoking_female = []\n",
    "            \n",
    "    for row in csv_reader:\n",
    "        gender = row[gender_column]\n",
    "        smoking_status = row[smoking_column]\n",
    "        cost = float(row[cost_column])\n",
    "        \n",
    "        if gender == \"female\" and smoking_status == \"yes\":\n",
    "            smoking_female.append(cost)\n",
    "        else:\n",
    "            non_smoking_female.append(cost)"
   ]
  },
  {
   "cell_type": "code",
   "execution_count": 336,
   "metadata": {},
   "outputs": [
    {
     "name": "stdout",
     "output_type": "stream",
     "text": [
      "Total cost for male smokers: 5253678$USD.\n",
      "Total cost for male non-smokers: 1966026$USD.\n",
      "Difference in cost for male smoker and non-smoker male: 3287652$USD.\n",
      "Total cost for female smokers: 3528084$USD.\n",
      "Total cost for female non-smokers: 2261960$USD.\n",
      "Difference in cost for female smoker and non-smoker female: 1266123$USD.\n"
     ]
    }
   ],
   "source": [
    "total_cost_smoking_male = sum(smoking_male[:200])\n",
    "total_cost_non_smoking_male = sum(non_smoking_male[:200])\n",
    "total_cost_smoking_female = sum(smoking_female[:200])\n",
    "total_cost_non_smoking_female = sum(non_smoking_female[:200])\n",
    "\n",
    "difference_in_cost_male = total_cost_smoking_male - total_cost_non_smoking_male\n",
    "difference_in_cost_female = total_cost_smoking_female - total_cost_non_smoking_female\n",
    "\n",
    "print(f\"Total cost for male smokers: {int(total_cost_smoking_male)}$USD.\")\n",
    "print(f\"Total cost for male non-smokers: {int(total_cost_non_smoking_male)}$USD.\")\n",
    "print(f\"Difference in cost for male smoker and non-smoker male: {int(difference_in_cost_male)}$USD.\")\n",
    "\n",
    "print(f\"Total cost for female smokers: {int(total_cost_smoking_female)}$USD.\")\n",
    "print(f\"Total cost for female non-smokers: {int(total_cost_non_smoking_female)}$USD.\")\n",
    "print(f\"Difference in cost for female smoker and non-smoker female: {int(difference_in_cost_female)}$USD.\")"
   ]
  }
 ],
 "metadata": {
  "kernelspec": {
   "display_name": "Python 3 (ipykernel)",
   "language": "python",
   "name": "python3"
  },
  "language_info": {
   "codemirror_mode": {
    "name": "ipython",
    "version": 3
   },
   "file_extension": ".py",
   "mimetype": "text/x-python",
   "name": "python",
   "nbconvert_exporter": "python",
   "pygments_lexer": "ipython3",
   "version": "3.11.4"
  }
 },
 "nbformat": 4,
 "nbformat_minor": 4
}
